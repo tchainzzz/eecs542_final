{
 "cells": [
  {
   "cell_type": "code",
   "execution_count": 1,
   "id": "3d44f86f",
   "metadata": {},
   "outputs": [
    {
     "name": "stdout",
     "output_type": "stream",
     "text": [
      "Using device cpu\n"
     ]
    }
   ],
   "source": [
    "from argparse import ArgumentParser\n",
    "import os\n",
    "\n",
    "import matplotlib.pyplot as plt\n",
    "import numpy as np\n",
    "import torch\n",
    "import torchvision.transforms.functional as T\n",
    "from tqdm.auto import tqdm\n",
    "\n",
    "from training_pipeline import calculate_epoch_metrics, do_phase, get_dataloaders, initialize_model\n",
    "from models import *"
   ]
  },
  {
   "cell_type": "code",
   "execution_count": 2,
   "id": "75d6d6fd",
   "metadata": {},
   "outputs": [],
   "source": [
    "MODEL_NAME = 'resnet' # or 'densenet' or whatever\n",
    "DATASET = 'mnist' # or 'camelyon17' or 'iwildcam'\n",
    "CORRELATION = 0.3"
   ]
  },
  {
   "cell_type": "code",
   "execution_count": 3,
   "id": "b07db3a7",
   "metadata": {},
   "outputs": [],
   "source": [
    "def get_model(model_file):\n",
    "    model, _ = initialize_model(\n",
    "         MODEL_NAME,\n",
    "         2, # num classes is always 2\n",
    "         True, # set this feature extraction flag to true to freeze stuff\n",
    "         use_pretrained=False\n",
    "    )\n",
    "    try:\n",
    "        weights = torch.load(model_file).state_dict() \n",
    "    except Exception: # need to extract the state dict from the model file\n",
    "        weights = torch.load(model_file)\n",
    "    model.load_state_dict(weights)\n",
    "    model.eval()\n",
    "    return model\n",
    "\n",
    "def get_dataloader(correlation):\n",
    "    _, test_dl = get_dataloaders(\n",
    "        DATASET,\n",
    "        \"/scratch/eecs542f21_class_root/eecs542f21_class/shared_data/dssr_datasets/WildsData/camelyon17_v1.0\",\n",
    "        CORRELATION,\n",
    "        42, # seed\n",
    "        32, # batch_size\n",
    "        os.cpu_count() // 2,\n",
    "        test_only=True,\n",
    "    )\n",
    "    return test_dl\n",
    "\n",
    "def run_inference(model, dataloader):\n",
    "    pbar = tqdm(enumerate(dataloader), total=len(dataloader))\n",
    "    _, _, all_y, all_preds, all_scores, _, all_domains, all_domain_preds, all_domain_scores = do_phase('val', model, pbar)\n",
    "    return all_y, all_preds, all_scores, all_domains, all_domain_preds, all_domain_scores\n",
    "\n",
    "def compare_predictions(baseline_model, skewed_model, correlation):\n",
    "    print(\"Loading datasets...\")\n",
    "    dl = get_dataloader(correlation)\n",
    "    \n",
    "    print(\"Running inference...\")\n",
    "    results_base = run_inference(baseline, dl)\n",
    "    results_skewed = run_inference(skewed, dl)\n",
    "    _, preds_base, all_domains, *_ = results_base\n",
    "    _, preds_skewed, *_ = results_skewed\n",
    "    # TODO: maybe store the rest of the results and compute metrics, idk\n",
    "    return preds_base, preds_skewed, dl.dataset # this only works because shuffle = False"
   ]
  },
  {
   "cell_type": "code",
   "execution_count": 4,
   "id": "d38c8ffb",
   "metadata": {},
   "outputs": [
    {
     "name": "stdout",
     "output_type": "stream",
     "text": [
      "Loading model...\n",
      "Loading datasets...\n",
      "Running inference...\n"
     ]
    },
    {
     "data": {
      "application/vnd.jupyter.widget-view+json": {
       "model_id": "4bdd1eb233bc4b1db9f69f4ad3ad82b1",
       "version_major": 2,
       "version_minor": 0
      },
      "text/plain": [
       "  0%|          | 0/63 [00:00<?, ?it/s]"
      ]
     },
     "metadata": {},
     "output_type": "display_data"
    },
    {
     "data": {
      "application/vnd.jupyter.widget-view+json": {
       "model_id": "02193b4ea6074fd6a192d1bf4fffa175",
       "version_major": 2,
       "version_minor": 0
      },
      "text/plain": [
       "  0%|          | 0/63 [00:00<?, ?it/s]"
      ]
     },
     "metadata": {},
     "output_type": "display_data"
    }
   ],
   "source": [
    "BASELINE_PATH = \"/scratch/eecs542f21_class_root/eecs542f21_class/shared_data/dssr_datasets/saved_models/mnist_corr_0.5__bestacc_0.8379860418743769.pth\"\n",
    "SKEWED_PATH = \"/scratch/eecs542f21_class_root/eecs542f21_class/shared_data/dssr_datasets/saved_models/mnist_corr_0.7__bestacc_0.8569292123629113.pth\"\n",
    "CORRELATION_SOURCE = 0.5\n",
    "\n",
    "print(\"Loading model...\")\n",
    "baseline = get_model(BASELINE_PATH)\n",
    "skewed = get_model(SKEWED_PATH)\n",
    "preds_base, preds_skewed, dataset = compare_predictions(baseline, skewed, CORRELATION_SOURCE)\n"
   ]
  },
  {
   "cell_type": "code",
   "execution_count": 45,
   "id": "11c73177",
   "metadata": {},
   "outputs": [
    {
     "name": "stdout",
     "output_type": "stream",
     "text": [
      "# of examples in group: 777\n",
      "# of examples total: 2006\n"
     ]
    },
    {
     "name": "stderr",
     "output_type": "stream",
     "text": [
      "/home/ctrenton/miniconda3/envs/eecs542/lib/python3.7/site-packages/ipykernel_launcher.py:32: RuntimeWarning: More than 20 figures have been opened. Figures created through the pyplot interface (`matplotlib.pyplot.figure`) are retained until explicitly closed and may consume too much memory. (To control this warning, see the rcParam `figure.max_open_warning`).\n"
     ]
    },
    {
     "data": {
      "image/png": "[encoded data removed]",
      "text/plain": [
       "<Figure size 288x288 with 1 Axes>"
      ]
     },
     "metadata": {
      "needs_background": "light"
     },
     "output_type": "display_data"
    },
    {
     "data": {
      "image/png": "[encoded data removed]",
      "text/plain": [
       "<Figure size 288x288 with 1 Axes>"
      ]
     },
     "metadata": {
      "needs_background": "light"
     },
     "output_type": "display_data"
    },
    {
     "data": {
      "image/png": "[encoded data removed]",
      "text/plain": [
       "<Figure size 288x288 with 1 Axes>"
      ]
     },
     "metadata": {
      "needs_background": "light"
     },
     "output_type": "display_data"
    },
    {
     "data": {
      "image/png": "[encoded data removed]",
      "text/plain": [
       "<Figure size 288x288 with 1 Axes>"
      ]
     },
     "metadata": {
      "needs_background": "light"
     },
     "output_type": "display_data"
    },
    {
     "data": {
      "image/png": "[encoded data removed]",
      "text/plain": [
       "<Figure size 288x288 with 1 Axes>"
      ]
     },
     "metadata": {
      "needs_background": "light"
     },
     "output_type": "display_data"
    },
    {
     "data": {
      "image/png": "[encoded data removed]",
      "text/plain": [
       "<Figure size 288x288 with 1 Axes>"
      ]
     },
     "metadata": {
      "needs_background": "light"
     },
     "output_type": "display_data"
    },
    {
     "data": {
      "image/png": "[encoded data removed]",
      "text/plain": [
       "<Figure size 288x288 with 1 Axes>"
      ]
     },
     "metadata": {
      "needs_background": "light"
     },
     "output_type": "display_data"
    },
    {
     "data": {
      "image/png": "[encoded data removed]",
      "text/plain": [
       "<Figure size 288x288 with 1 Axes>"
      ]
     },
     "metadata": {
      "needs_background": "light"
     },
     "output_type": "display_data"
    },
    {
     "data": {
      "image/png": "[encoded data removed]",
      "text/plain": [
       "<Figure size 288x288 with 1 Axes>"
      ]
     },
     "metadata": {
      "needs_background": "light"
     },
     "output_type": "display_data"
    },
    {
     "data": {
      "image/png": "[encoded data removed]",
      "text/plain": [
       "<Figure size 288x288 with 1 Axes>"
      ]
     },
     "metadata": {
      "needs_background": "light"
     },
     "output_type": "display_data"
    },
    {
     "data": {
      "image/png": "[encoded data removed]",
      "text/plain": [
       "<Figure size 288x288 with 1 Axes>"
      ]
     },
     "metadata": {
      "needs_background": "light"
     },
     "output_type": "display_data"
    },
    {
     "data": {
      "image/png": "[encoded data removed]",
      "text/plain": [
       "<Figure size 288x288 with 1 Axes>"
      ]
     },
     "metadata": {
      "needs_background": "light"
     },
     "output_type": "display_data"
    },
    {
     "data": {
      "image/png": "[encoded data removed]",
      "text/plain": [
       "<Figure size 288x288 with 1 Axes>"
      ]
     },
     "metadata": {
      "needs_background": "light"
     },
     "output_type": "display_data"
    },
    {
     "data": {
      "image/png": "[encoded data removed]",
      "text/plain": [
       "<Figure size 288x288 with 1 Axes>"
      ]
     },
     "metadata": {
      "needs_background": "light"
     },
     "output_type": "display_data"
    },
    {
     "data": {
      "image/png": "[encoded data removed]",
      "text/plain": [
       "<Figure size 288x288 with 1 Axes>"
      ]
     },
     "metadata": {
      "needs_background": "light"
     },
     "output_type": "display_data"
    },
    {
     "data": {
      "image/png": "[encoded data removed]",
      "text/plain": [
       "<Figure size 288x288 with 1 Axes>"
      ]
     },
     "metadata": {
      "needs_background": "light"
     },
     "output_type": "display_data"
    },
    {
     "data": {
      "image/png": "[encoded data removed]",
      "text/plain": [
       "<Figure size 288x288 with 1 Axes>"
      ]
     },
     "metadata": {
      "needs_background": "light"
     },
     "output_type": "display_data"
    },
    {
     "data": {
      "image/png": "[encoded data removed]",
      "text/plain": [
       "<Figure size 288x288 with 1 Axes>"
      ]
     },
     "metadata": {
      "needs_background": "light"
     },
     "output_type": "display_data"
    },
    {
     "data": {
      "image/png": "[encoded data removed]",
      "text/plain": [
       "<Figure size 288x288 with 1 Axes>"
      ]
     },
     "metadata": {
      "needs_background": "light"
     },
     "output_type": "display_data"
    },
    {
     "data": {
      "image/png": "[encoded data removed]",
      "text/plain": [
       "<Figure size 288x288 with 1 Axes>"
      ]
     },
     "metadata": {
      "needs_background": "light"
     },
     "output_type": "display_data"
    },
    {
     "data": {
      "image/png": "[encoded data removed]",
      "text/plain": [
       "<Figure size 288x288 with 1 Axes>"
      ]
     },
     "metadata": {
      "needs_background": "light"
     },
     "output_type": "display_data"
    },
    {
     "data": {
      "image/png": "[encoded data removed]",
      "text/plain": [
       "<Figure size 288x288 with 1 Axes>"
      ]
     },
     "metadata": {
      "needs_background": "light"
     },
     "output_type": "display_data"
    },
    {
     "data": {
      "image/png": "[encoded data removed]",
      "text/plain": [
       "<Figure size 288x288 with 1 Axes>"
      ]
     },
     "metadata": {
      "needs_background": "light"
     },
     "output_type": "display_data"
    },
    {
     "data": {
      "image/png": "[encoded data removed]",
      "text/plain": [
       "<Figure size 288x288 with 1 Axes>"
      ]
     },
     "metadata": {
      "needs_background": "light"
     },
     "output_type": "display_data"
    },
    {
     "data": {
      "image/png": "[encoded data removed]",
      "text/plain": [
       "<Figure size 288x288 with 1 Axes>"
      ]
     },
     "metadata": {
      "needs_background": "light"
     },
     "output_type": "display_data"
    },
    {
     "data": {
      "image/png": "[encoded data removed]",
      "text/plain": [
       "<Figure size 288x288 with 1 Axes>"
      ]
     },
     "metadata": {
      "needs_background": "light"
     },
     "output_type": "display_data"
    },
    {
     "data": {
      "image/png": "[encoded data removed]",
      "text/plain": [
       "<Figure size 288x288 with 1 Axes>"
      ]
     },
     "metadata": {
      "needs_background": "light"
     },
     "output_type": "display_data"
    },
    {
     "data": {
      "image/png": "[encoded data removed]",
      "text/plain": [
       "<Figure size 288x288 with 1 Axes>"
      ]
     },
     "metadata": {
      "needs_background": "light"
     },
     "output_type": "display_data"
    },
    {
     "data": {
      "image/png": "[encoded data removed]",
      "text/plain": [
       "<Figure size 288x288 with 1 Axes>"
      ]
     },
     "metadata": {
      "needs_background": "light"
     },
     "output_type": "display_data"
    },
    {
     "data": {
      "image/png": "[encoded data removed]",
      "text/plain": [
       "<Figure size 288x288 with 1 Axes>"
      ]
     },
     "metadata": {
      "needs_background": "light"
     },
     "output_type": "display_data"
    },
    {
     "data": {
      "image/png": "[encoded data removed]",
      "text/plain": [
       "<Figure size 288x288 with 1 Axes>"
      ]
     },
     "metadata": {
      "needs_background": "light"
     },
     "output_type": "display_data"
    },
    {
     "data": {
      "image/png": "[encoded data removed]",
      "text/plain": [
       "<Figure size 288x288 with 1 Axes>"
      ]
     },
     "metadata": {
      "needs_background": "light"
     },
     "output_type": "display_data"
    }
   ],
   "source": [
    "N_EXAMPLES_TO_VISUALIZE = 32\n",
    "EXAMPLE_TYPE = 'hard' # or 'robust' or 'hard'\n",
    "\n",
    "np.random.seed(42) # change this to see diff examples -- for reproducibility. Original is 42.\n",
    "\n",
    "if EXAMPLE_TYPE == 'flipped':\n",
    "    preds = (preds_base == 1) & (preds_skewed == 0) \n",
    "elif EXAMPLE_TYPE == 'robust':\n",
    "    preds = (preds_base == 1) & (preds_skewed == 1)\n",
    "elif EXAMPLE_TYPE == 'hard':\n",
    "    preds = (preds_base == 0) & (preds_skewed == 0) \n",
    "    \n",
    "print(\"# of examples in group:\", preds.sum().item())\n",
    "print(\"# of examples total:\", len(preds))\n",
    "\n",
    "indices = np.random.choice(np.where(preds.squeeze() == 1)[0], N_EXAMPLES_TO_VISUALIZE)\n",
    "\n",
    "def frame_image(img, frame_width, color=\"#ffcccc\"):\n",
    "    b = frame_width # border size in pixel\n",
    "    ny, nx = img.shape[0], img.shape[1] # resolution / number of pixels in x and y\n",
    "    framed_img = np.zeros((nx+2*b, ny+2*b, 3), dtype=int)\n",
    "    framed_img[..., 0] = int(f\"0x{color[1:3]}\", 16)\n",
    "    framed_img[..., 1] = int(f\"0x{color[3:5]}\", 16)\n",
    "    framed_img[..., 2] = int(f\"0x{color[5:]}\", 16)\n",
    "    framed_img[b:-b, b:-b] = img\n",
    "    return framed_img\n",
    "\n",
    "def show_spurious_correlations(indices, frame=True, spurious_class1_color=\"#ffcccc\", spurious_class0_color=\"#ffcccc\", border_width=1):\n",
    "    for i in indices:\n",
    "        X, y, z = dataset[i]\n",
    "        img = np.array(T.to_pil_image(X)).astype(int)\n",
    "        fig = plt.figure(figsize=(4, 4))\n",
    "        ax = fig.subplots(1, 1)\n",
    "        axis = ax.axis()\n",
    "        if frame:\n",
    "            if y == 1 and z == 1: # fooled by spurious correlation, class 1\n",
    "                img = frame_image(img, border_width, color=spurious_class1_color)\n",
    "            if y == 0 and z == 0: # fooled by spurious correlation, class 0\n",
    "                img = frame_image(img, border_width, color=spurious_class0_color)\n",
    "        ax.set_axis_off()\n",
    "        ax.imshow(img)\n",
    "\n",
    "show_spurious_correlations(indices)\n"
   ]
  },
  {
   "cell_type": "code",
   "execution_count": null,
   "id": "0605d5e4",
   "metadata": {},
   "outputs": [],
   "source": [
    "# right-click to save images for figures"
   ]
  },
  {
   "cell_type": "code",
   "execution_count": null,
   "id": "bacf08d9",
   "metadata": {},
   "outputs": [],
   "source": []
  }
 ],
 "metadata": {
  "kernelspec": {
   "display_name": "Python 3 (ipykernel)",
   "language": "python",
   "name": "python3"
  },
  "language_info": {
   "codemirror_mode": {
    "name": "ipython",
    "version": 3
   },
   "file_extension": ".py",
   "mimetype": "text/x-python",
   "name": "python",
   "nbconvert_exporter": "python",
   "pygments_lexer": "ipython3",
   "version": "3.7.11"
  }
 },
 "nbformat": 4,
 "nbformat_minor": 5
}
